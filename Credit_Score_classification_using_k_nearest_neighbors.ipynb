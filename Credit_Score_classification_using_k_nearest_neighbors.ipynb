{
  "nbformat": 4,
  "nbformat_minor": 0,
  "metadata": {
    "colab": {
      "provenance": [],
      "authorship_tag": "ABX9TyNOWDdSCFgSWaOl/nItflxY",
      "include_colab_link": true
    },
    "kernelspec": {
      "name": "python3",
      "display_name": "Python 3"
    },
    "language_info": {
      "name": "python"
    }
  },
  "cells": [
    {
      "cell_type": "markdown",
      "metadata": {
        "id": "view-in-github",
        "colab_type": "text"
      },
      "source": [
        "<a href=\"https://colab.research.google.com/github/punkmic/Credit-Score-classification-using-k-nearest-neighbors/blob/master/Credit_Score_classification_using_k_nearest_neighbors.ipynb\" target=\"_parent\"><img src=\"https://colab.research.google.com/assets/colab-badge.svg\" alt=\"Open In Colab\"/></a>"
      ]
    },
    {
      "cell_type": "markdown",
      "source": [
        "# **Credit Score classification using k-nearest neighbors**\n",
        "\n",
        "\n",
        "\n"
      ],
      "metadata": {
        "id": "9D_bcKoZC0vS"
      }
    },
    {
      "cell_type": "markdown",
      "source": [
        "The k-nearest neighbors algorithm, also known as KNN or k-NN, is a non-parametric, supervised learning classifier, which uses proximity to make classifications or predictions about the grouping of an individual data point.\n",
        "While it can be used for either regression or classification problems, it is typically used as a classification algorithm, working off the assumption that similar points can be found near one another.\n",
        "\n",
        "Reference\n",
        "\n",
        "IBM:\n",
        "https://www.ibm.com/topicsknn#:~:text=The%20k%2Dnearest%20neighbors%20algorithm%2C%20also%20known%20as%20KNN%20or,of%20an%20individual%20data%20point"
      ],
      "metadata": {
        "id": "-_j-I_vvpW0p"
      }
    },
    {
      "cell_type": "markdown",
      "source": [
        "### Import dependecies"
      ],
      "metadata": {
        "id": "EROOAvyt5rQf"
      }
    },
    {
      "cell_type": "code",
      "execution_count": 97,
      "metadata": {
        "id": "To5IjJJW0f_I"
      },
      "outputs": [],
      "source": [
        "try:\n",
        "  import opendatasets as od\n",
        "except:\n",
        "  !pip install opendatasets\n",
        "  import opendatasets as od\n",
        "from os import path\n",
        "import pandas as pd\n",
        "import numpy as np\n",
        "import matplotlib.pyplot as plt"
      ]
    },
    {
      "cell_type": "markdown",
      "source": [
        "### Download dataset"
      ],
      "metadata": {
        "id": "o4BCOZ3t5unt"
      }
    },
    {
      "cell_type": "code",
      "source": [
        "def download_data(url, data_dir=None):\n",
        "  '''Helper function to download dataset from Kaggle'''\n",
        "  if  not None:\n",
        "    od.download(url, data_dir)\n",
        "  else:\n",
        "    od.download(url)"
      ],
      "metadata": {
        "id": "W01tPhWD2qzc"
      },
      "execution_count": 98,
      "outputs": []
    },
    {
      "cell_type": "code",
      "source": [
        "# data to download\n",
        "url = 'https://www.kaggle.com/datasets/clkmuhammed/creditscoreclassification'\n",
        "\n",
        "# define the directory to save data\n",
        "data_dir = 'datasets/'\n",
        "\n",
        "# download data\n",
        "download_data(url, data_dir)"
      ],
      "metadata": {
        "colab": {
          "base_uri": "https://localhost:8080/"
        },
        "id": "N6Rthk2Y3GIY",
        "outputId": "abdc8dd4-3123-4949-ffeb-27800a7e9094"
      },
      "execution_count": 99,
      "outputs": [
        {
          "output_type": "stream",
          "name": "stdout",
          "text": [
            "Skipping, found downloaded files in \"datasets/creditscoreclassification\" (use force=True to force download)\n"
          ]
        }
      ]
    },
    {
      "cell_type": "code",
      "source": [
        "def read_data(downloaded_file_path_csv):\n",
        "  '''Helper function to read data saved in colab files'''\n",
        "  if path.exists(downloaded_file_path_csv):\n",
        "    return pd.read_csv(downloaded_file_path_csv)"
      ],
      "metadata": {
        "id": "a9xqtAiQ75fE"
      },
      "execution_count": 100,
      "outputs": []
    },
    {
      "cell_type": "code",
      "source": [
        "# location where the file was saved\n",
        "downloaded_file_path_csv = f'{data_dir}creditscoreclassification/train.csv'\n",
        "\n",
        "# read csv as Dataframe object\n",
        "df = read_data(downloaded_file_path_csv)"
      ],
      "metadata": {
        "id": "KdA58dq64bPb"
      },
      "execution_count": 101,
      "outputs": []
    },
    {
      "cell_type": "markdown",
      "source": [
        "### Prepare data"
      ],
      "metadata": {
        "id": "NQKJdOoZUFbZ"
      }
    },
    {
      "cell_type": "markdown",
      "source": [
        "Lower columns name"
      ],
      "metadata": {
        "id": "biXlkMnIv5EK"
      }
    },
    {
      "cell_type": "code",
      "source": [
        "# lower columns names\n",
        "df.columns = map(str.lower, df.columns)\n",
        "df.head()"
      ],
      "metadata": {
        "colab": {
          "base_uri": "https://localhost:8080/",
          "height": 386
        },
        "id": "aC_IYb705iGD",
        "outputId": "db415dd2-3ff6-46c5-b26f-84b24ff39e47"
      },
      "execution_count": 102,
      "outputs": [
        {
          "output_type": "execute_result",
          "data": {
            "text/plain": [
              "     id  customer_id  month           name   age          ssn occupation  \\\n",
              "0  5634         3392      1  Aaron Maashoh  23.0  821000265.0  Scientist   \n",
              "1  5635         3392      2  Aaron Maashoh  23.0  821000265.0  Scientist   \n",
              "2  5636         3392      3  Aaron Maashoh  23.0  821000265.0  Scientist   \n",
              "3  5637         3392      4  Aaron Maashoh  23.0  821000265.0  Scientist   \n",
              "4  5638         3392      5  Aaron Maashoh  23.0  821000265.0  Scientist   \n",
              "\n",
              "   annual_income  monthly_inhand_salary  num_bank_accounts  ...  credit_mix  \\\n",
              "0       19114.12            1824.843333                3.0  ...        Good   \n",
              "1       19114.12            1824.843333                3.0  ...        Good   \n",
              "2       19114.12            1824.843333                3.0  ...        Good   \n",
              "3       19114.12            1824.843333                3.0  ...        Good   \n",
              "4       19114.12            1824.843333                3.0  ...        Good   \n",
              "\n",
              "   outstanding_debt  credit_utilization_ratio credit_history_age  \\\n",
              "0            809.98                 26.822620              265.0   \n",
              "1            809.98                 31.944960              266.0   \n",
              "2            809.98                 28.609352              267.0   \n",
              "3            809.98                 31.377862              268.0   \n",
              "4            809.98                 24.797347              269.0   \n",
              "\n",
              "   payment_of_min_amount  total_emi_per_month  amount_invested_monthly  \\\n",
              "0                     No            49.574949                 21.46538   \n",
              "1                     No            49.574949                 21.46538   \n",
              "2                     No            49.574949                 21.46538   \n",
              "3                     No            49.574949                 21.46538   \n",
              "4                     No            49.574949                 21.46538   \n",
              "\n",
              "                  payment_behaviour monthly_balance  credit_score  \n",
              "0   High_spent_Small_value_payments      312.494089          Good  \n",
              "1    Low_spent_Large_value_payments      284.629162          Good  \n",
              "2   Low_spent_Medium_value_payments      331.209863          Good  \n",
              "3    Low_spent_Small_value_payments      223.451310          Good  \n",
              "4  High_spent_Medium_value_payments      341.489231          Good  \n",
              "\n",
              "[5 rows x 28 columns]"
            ],
            "text/html": [
              "\n",
              "  <div id=\"df-71fb5f5b-df20-467b-84b3-b2cc1ffa5935\">\n",
              "    <div class=\"colab-df-container\">\n",
              "      <div>\n",
              "<style scoped>\n",
              "    .dataframe tbody tr th:only-of-type {\n",
              "        vertical-align: middle;\n",
              "    }\n",
              "\n",
              "    .dataframe tbody tr th {\n",
              "        vertical-align: top;\n",
              "    }\n",
              "\n",
              "    .dataframe thead th {\n",
              "        text-align: right;\n",
              "    }\n",
              "</style>\n",
              "<table border=\"1\" class=\"dataframe\">\n",
              "  <thead>\n",
              "    <tr style=\"text-align: right;\">\n",
              "      <th></th>\n",
              "      <th>id</th>\n",
              "      <th>customer_id</th>\n",
              "      <th>month</th>\n",
              "      <th>name</th>\n",
              "      <th>age</th>\n",
              "      <th>ssn</th>\n",
              "      <th>occupation</th>\n",
              "      <th>annual_income</th>\n",
              "      <th>monthly_inhand_salary</th>\n",
              "      <th>num_bank_accounts</th>\n",
              "      <th>...</th>\n",
              "      <th>credit_mix</th>\n",
              "      <th>outstanding_debt</th>\n",
              "      <th>credit_utilization_ratio</th>\n",
              "      <th>credit_history_age</th>\n",
              "      <th>payment_of_min_amount</th>\n",
              "      <th>total_emi_per_month</th>\n",
              "      <th>amount_invested_monthly</th>\n",
              "      <th>payment_behaviour</th>\n",
              "      <th>monthly_balance</th>\n",
              "      <th>credit_score</th>\n",
              "    </tr>\n",
              "  </thead>\n",
              "  <tbody>\n",
              "    <tr>\n",
              "      <th>0</th>\n",
              "      <td>5634</td>\n",
              "      <td>3392</td>\n",
              "      <td>1</td>\n",
              "      <td>Aaron Maashoh</td>\n",
              "      <td>23.0</td>\n",
              "      <td>821000265.0</td>\n",
              "      <td>Scientist</td>\n",
              "      <td>19114.12</td>\n",
              "      <td>1824.843333</td>\n",
              "      <td>3.0</td>\n",
              "      <td>...</td>\n",
              "      <td>Good</td>\n",
              "      <td>809.98</td>\n",
              "      <td>26.822620</td>\n",
              "      <td>265.0</td>\n",
              "      <td>No</td>\n",
              "      <td>49.574949</td>\n",
              "      <td>21.46538</td>\n",
              "      <td>High_spent_Small_value_payments</td>\n",
              "      <td>312.494089</td>\n",
              "      <td>Good</td>\n",
              "    </tr>\n",
              "    <tr>\n",
              "      <th>1</th>\n",
              "      <td>5635</td>\n",
              "      <td>3392</td>\n",
              "      <td>2</td>\n",
              "      <td>Aaron Maashoh</td>\n",
              "      <td>23.0</td>\n",
              "      <td>821000265.0</td>\n",
              "      <td>Scientist</td>\n",
              "      <td>19114.12</td>\n",
              "      <td>1824.843333</td>\n",
              "      <td>3.0</td>\n",
              "      <td>...</td>\n",
              "      <td>Good</td>\n",
              "      <td>809.98</td>\n",
              "      <td>31.944960</td>\n",
              "      <td>266.0</td>\n",
              "      <td>No</td>\n",
              "      <td>49.574949</td>\n",
              "      <td>21.46538</td>\n",
              "      <td>Low_spent_Large_value_payments</td>\n",
              "      <td>284.629162</td>\n",
              "      <td>Good</td>\n",
              "    </tr>\n",
              "    <tr>\n",
              "      <th>2</th>\n",
              "      <td>5636</td>\n",
              "      <td>3392</td>\n",
              "      <td>3</td>\n",
              "      <td>Aaron Maashoh</td>\n",
              "      <td>23.0</td>\n",
              "      <td>821000265.0</td>\n",
              "      <td>Scientist</td>\n",
              "      <td>19114.12</td>\n",
              "      <td>1824.843333</td>\n",
              "      <td>3.0</td>\n",
              "      <td>...</td>\n",
              "      <td>Good</td>\n",
              "      <td>809.98</td>\n",
              "      <td>28.609352</td>\n",
              "      <td>267.0</td>\n",
              "      <td>No</td>\n",
              "      <td>49.574949</td>\n",
              "      <td>21.46538</td>\n",
              "      <td>Low_spent_Medium_value_payments</td>\n",
              "      <td>331.209863</td>\n",
              "      <td>Good</td>\n",
              "    </tr>\n",
              "    <tr>\n",
              "      <th>3</th>\n",
              "      <td>5637</td>\n",
              "      <td>3392</td>\n",
              "      <td>4</td>\n",
              "      <td>Aaron Maashoh</td>\n",
              "      <td>23.0</td>\n",
              "      <td>821000265.0</td>\n",
              "      <td>Scientist</td>\n",
              "      <td>19114.12</td>\n",
              "      <td>1824.843333</td>\n",
              "      <td>3.0</td>\n",
              "      <td>...</td>\n",
              "      <td>Good</td>\n",
              "      <td>809.98</td>\n",
              "      <td>31.377862</td>\n",
              "      <td>268.0</td>\n",
              "      <td>No</td>\n",
              "      <td>49.574949</td>\n",
              "      <td>21.46538</td>\n",
              "      <td>Low_spent_Small_value_payments</td>\n",
              "      <td>223.451310</td>\n",
              "      <td>Good</td>\n",
              "    </tr>\n",
              "    <tr>\n",
              "      <th>4</th>\n",
              "      <td>5638</td>\n",
              "      <td>3392</td>\n",
              "      <td>5</td>\n",
              "      <td>Aaron Maashoh</td>\n",
              "      <td>23.0</td>\n",
              "      <td>821000265.0</td>\n",
              "      <td>Scientist</td>\n",
              "      <td>19114.12</td>\n",
              "      <td>1824.843333</td>\n",
              "      <td>3.0</td>\n",
              "      <td>...</td>\n",
              "      <td>Good</td>\n",
              "      <td>809.98</td>\n",
              "      <td>24.797347</td>\n",
              "      <td>269.0</td>\n",
              "      <td>No</td>\n",
              "      <td>49.574949</td>\n",
              "      <td>21.46538</td>\n",
              "      <td>High_spent_Medium_value_payments</td>\n",
              "      <td>341.489231</td>\n",
              "      <td>Good</td>\n",
              "    </tr>\n",
              "  </tbody>\n",
              "</table>\n",
              "<p>5 rows × 28 columns</p>\n",
              "</div>\n",
              "      <button class=\"colab-df-convert\" onclick=\"convertToInteractive('df-71fb5f5b-df20-467b-84b3-b2cc1ffa5935')\"\n",
              "              title=\"Convert this dataframe to an interactive table.\"\n",
              "              style=\"display:none;\">\n",
              "        \n",
              "  <svg xmlns=\"http://www.w3.org/2000/svg\" height=\"24px\"viewBox=\"0 0 24 24\"\n",
              "       width=\"24px\">\n",
              "    <path d=\"M0 0h24v24H0V0z\" fill=\"none\"/>\n",
              "    <path d=\"M18.56 5.44l.94 2.06.94-2.06 2.06-.94-2.06-.94-.94-2.06-.94 2.06-2.06.94zm-11 1L8.5 8.5l.94-2.06 2.06-.94-2.06-.94L8.5 2.5l-.94 2.06-2.06.94zm10 10l.94 2.06.94-2.06 2.06-.94-2.06-.94-.94-2.06-.94 2.06-2.06.94z\"/><path d=\"M17.41 7.96l-1.37-1.37c-.4-.4-.92-.59-1.43-.59-.52 0-1.04.2-1.43.59L10.3 9.45l-7.72 7.72c-.78.78-.78 2.05 0 2.83L4 21.41c.39.39.9.59 1.41.59.51 0 1.02-.2 1.41-.59l7.78-7.78 2.81-2.81c.8-.78.8-2.07 0-2.86zM5.41 20L4 18.59l7.72-7.72 1.47 1.35L5.41 20z\"/>\n",
              "  </svg>\n",
              "      </button>\n",
              "      \n",
              "  <style>\n",
              "    .colab-df-container {\n",
              "      display:flex;\n",
              "      flex-wrap:wrap;\n",
              "      gap: 12px;\n",
              "    }\n",
              "\n",
              "    .colab-df-convert {\n",
              "      background-color: #E8F0FE;\n",
              "      border: none;\n",
              "      border-radius: 50%;\n",
              "      cursor: pointer;\n",
              "      display: none;\n",
              "      fill: #1967D2;\n",
              "      height: 32px;\n",
              "      padding: 0 0 0 0;\n",
              "      width: 32px;\n",
              "    }\n",
              "\n",
              "    .colab-df-convert:hover {\n",
              "      background-color: #E2EBFA;\n",
              "      box-shadow: 0px 1px 2px rgba(60, 64, 67, 0.3), 0px 1px 3px 1px rgba(60, 64, 67, 0.15);\n",
              "      fill: #174EA6;\n",
              "    }\n",
              "\n",
              "    [theme=dark] .colab-df-convert {\n",
              "      background-color: #3B4455;\n",
              "      fill: #D2E3FC;\n",
              "    }\n",
              "\n",
              "    [theme=dark] .colab-df-convert:hover {\n",
              "      background-color: #434B5C;\n",
              "      box-shadow: 0px 1px 3px 1px rgba(0, 0, 0, 0.15);\n",
              "      filter: drop-shadow(0px 1px 2px rgba(0, 0, 0, 0.3));\n",
              "      fill: #FFFFFF;\n",
              "    }\n",
              "  </style>\n",
              "\n",
              "      <script>\n",
              "        const buttonEl =\n",
              "          document.querySelector('#df-71fb5f5b-df20-467b-84b3-b2cc1ffa5935 button.colab-df-convert');\n",
              "        buttonEl.style.display =\n",
              "          google.colab.kernel.accessAllowed ? 'block' : 'none';\n",
              "\n",
              "        async function convertToInteractive(key) {\n",
              "          const element = document.querySelector('#df-71fb5f5b-df20-467b-84b3-b2cc1ffa5935');\n",
              "          const dataTable =\n",
              "            await google.colab.kernel.invokeFunction('convertToInteractive',\n",
              "                                                     [key], {});\n",
              "          if (!dataTable) return;\n",
              "\n",
              "          const docLinkHtml = 'Like what you see? Visit the ' +\n",
              "            '<a target=\"_blank\" href=https://colab.research.google.com/notebooks/data_table.ipynb>data table notebook</a>'\n",
              "            + ' to learn more about interactive tables.';\n",
              "          element.innerHTML = '';\n",
              "          dataTable['output_type'] = 'display_data';\n",
              "          await google.colab.output.renderOutput(dataTable, element);\n",
              "          const docLink = document.createElement('div');\n",
              "          docLink.innerHTML = docLinkHtml;\n",
              "          element.appendChild(docLink);\n",
              "        }\n",
              "      </script>\n",
              "    </div>\n",
              "  </div>\n",
              "  "
            ]
          },
          "metadata": {},
          "execution_count": 102
        }
      ]
    },
    {
      "cell_type": "markdown",
      "source": [
        "Print target/label"
      ],
      "metadata": {
        "id": "QYjK7yNkv9MJ"
      }
    },
    {
      "cell_type": "code",
      "source": [
        "# print unique target (credit score) values\n",
        "df['credit_score'].unique()"
      ],
      "metadata": {
        "colab": {
          "base_uri": "https://localhost:8080/"
        },
        "id": "RASDkQln9BTE",
        "outputId": "3262e411-660c-44e5-dead-ae31e133fca9"
      },
      "execution_count": 103,
      "outputs": [
        {
          "output_type": "execute_result",
          "data": {
            "text/plain": [
              "array(['Good', 'Standard', 'Poor'], dtype=object)"
            ]
          },
          "metadata": {},
          "execution_count": 103
        }
      ]
    },
    {
      "cell_type": "markdown",
      "source": [
        "Print data types"
      ],
      "metadata": {
        "id": "-a2ip_L6wEYg"
      }
    },
    {
      "cell_type": "code",
      "source": [
        "# print types\n",
        "df.dtypes"
      ],
      "metadata": {
        "colab": {
          "base_uri": "https://localhost:8080/"
        },
        "id": "0n4Ui9O_aIzT",
        "outputId": "cfe52c28-2624-4137-a9ff-159f05b102ff"
      },
      "execution_count": 104,
      "outputs": [
        {
          "output_type": "execute_result",
          "data": {
            "text/plain": [
              "id                            int64\n",
              "customer_id                   int64\n",
              "month                         int64\n",
              "name                         object\n",
              "age                         float64\n",
              "ssn                         float64\n",
              "occupation                   object\n",
              "annual_income               float64\n",
              "monthly_inhand_salary       float64\n",
              "num_bank_accounts           float64\n",
              "num_credit_card             float64\n",
              "interest_rate               float64\n",
              "num_of_loan                 float64\n",
              "type_of_loan                 object\n",
              "delay_from_due_date         float64\n",
              "num_of_delayed_payment      float64\n",
              "changed_credit_limit        float64\n",
              "num_credit_inquiries        float64\n",
              "credit_mix                   object\n",
              "outstanding_debt            float64\n",
              "credit_utilization_ratio    float64\n",
              "credit_history_age          float64\n",
              "payment_of_min_amount        object\n",
              "total_emi_per_month         float64\n",
              "amount_invested_monthly     float64\n",
              "payment_behaviour            object\n",
              "monthly_balance             float64\n",
              "credit_score                 object\n",
              "dtype: object"
            ]
          },
          "metadata": {},
          "execution_count": 104
        }
      ]
    },
    {
      "cell_type": "markdown",
      "source": [
        "Drop columns that are not useful or important"
      ],
      "metadata": {
        "id": "fLeuEIdOYqw2"
      }
    },
    {
      "cell_type": "code",
      "source": [
        "# drop columns\n",
        "df.drop(['id', 'customer_id', 'month', 'name','age', 'occupation', 'ssn', 'type_of_loan', 'num_credit_card'], axis=1, inplace=True)\n",
        "\n",
        "# print columns\n",
        "df.columns"
      ],
      "metadata": {
        "colab": {
          "base_uri": "https://localhost:8080/"
        },
        "id": "llqzO4x8Yvqw",
        "outputId": "3375bfdf-c0f6-42da-9190-65e2ca54cd71"
      },
      "execution_count": 105,
      "outputs": [
        {
          "output_type": "execute_result",
          "data": {
            "text/plain": [
              "Index(['annual_income', 'monthly_inhand_salary', 'num_bank_accounts',\n",
              "       'interest_rate', 'num_of_loan', 'delay_from_due_date',\n",
              "       'num_of_delayed_payment', 'changed_credit_limit',\n",
              "       'num_credit_inquiries', 'credit_mix', 'outstanding_debt',\n",
              "       'credit_utilization_ratio', 'credit_history_age',\n",
              "       'payment_of_min_amount', 'total_emi_per_month',\n",
              "       'amount_invested_monthly', 'payment_behaviour', 'monthly_balance',\n",
              "       'credit_score'],\n",
              "      dtype='object')"
            ]
          },
          "metadata": {},
          "execution_count": 105
        }
      ]
    },
    {
      "cell_type": "markdown",
      "source": [
        "Transform categorical variables into numerical"
      ],
      "metadata": {
        "id": "_wFjcgzPT8wP"
      }
    },
    {
      "cell_type": "code",
      "source": [
        "# list of columns to transform\n",
        "categorical_cols = ['credit_mix', 'payment_of_min_amount', 'payment_behaviour']\n",
        "\n",
        "# dummies dataframe of categorical columns\n",
        "dummies = pd.get_dummies(df, columns=categorical_cols)\n",
        "\n",
        "# join original dataframe and dummies\n",
        "df = pd.merge(df, dummies)\n",
        "\n",
        "# drop categorical columns\n",
        "df.drop(categorical_cols, axis=1, inplace=True)\n",
        "df.columns"
      ],
      "metadata": {
        "colab": {
          "base_uri": "https://localhost:8080/"
        },
        "id": "QcYgFfKkUC7M",
        "outputId": "15c28b50-2ebc-4efe-f4cb-526798a44116"
      },
      "execution_count": 106,
      "outputs": [
        {
          "output_type": "execute_result",
          "data": {
            "text/plain": [
              "Index(['annual_income', 'monthly_inhand_salary', 'num_bank_accounts',\n",
              "       'interest_rate', 'num_of_loan', 'delay_from_due_date',\n",
              "       'num_of_delayed_payment', 'changed_credit_limit',\n",
              "       'num_credit_inquiries', 'outstanding_debt', 'credit_utilization_ratio',\n",
              "       'credit_history_age', 'total_emi_per_month', 'amount_invested_monthly',\n",
              "       'monthly_balance', 'credit_score', 'credit_mix_Bad', 'credit_mix_Good',\n",
              "       'credit_mix_Standard', 'payment_of_min_amount_NM',\n",
              "       'payment_of_min_amount_No', 'payment_of_min_amount_Yes',\n",
              "       'payment_behaviour_High_spent_Large_value_payments',\n",
              "       'payment_behaviour_High_spent_Medium_value_payments',\n",
              "       'payment_behaviour_High_spent_Small_value_payments',\n",
              "       'payment_behaviour_Low_spent_Large_value_payments',\n",
              "       'payment_behaviour_Low_spent_Medium_value_payments',\n",
              "       'payment_behaviour_Low_spent_Small_value_payments'],\n",
              "      dtype='object')"
            ]
          },
          "metadata": {},
          "execution_count": 106
        }
      ]
    },
    {
      "cell_type": "markdown",
      "source": [
        "### Train KNeighborsClassifier model"
      ],
      "metadata": {
        "id": "EWzkZ4jM52kt"
      }
    },
    {
      "cell_type": "code",
      "source": [
        "%time \n",
        "from sklearn.neighbors import KNeighborsClassifier\n",
        "from sklearn.model_selection import train_test_split\n",
        "\n",
        "# create arrays for the features and the target variable\n",
        "X = df.drop('credit_score', axis=1).values\n",
        "y = df['credit_score'].values\n",
        "\n",
        "# split into training and test sets\n",
        "X_train, X_test, y_train, y_test = train_test_split(X, y, test_size=0.2, random_state=42, stratify=y)\n",
        "\n",
        "# create a KNN classifier with 6 neighbors\n",
        "knn = KNeighborsClassifier(n_neighbors=6)\n",
        "\n",
        "knn.fit(X, y)"
      ],
      "metadata": {
        "colab": {
          "base_uri": "https://localhost:8080/"
        },
        "id": "CxmQAk3W55MX",
        "outputId": "ebcd2aa2-c702-4e37-d116-da7fc3e46357"
      },
      "execution_count": 107,
      "outputs": [
        {
          "output_type": "stream",
          "name": "stdout",
          "text": [
            "CPU times: user 3 µs, sys: 0 ns, total: 3 µs\n",
            "Wall time: 6.68 µs\n"
          ]
        },
        {
          "output_type": "execute_result",
          "data": {
            "text/plain": [
              "KNeighborsClassifier(n_neighbors=6)"
            ]
          },
          "metadata": {},
          "execution_count": 107
        }
      ]
    },
    {
      "cell_type": "markdown",
      "source": [
        "### Model performance"
      ],
      "metadata": {
        "id": "2RVQilCEBsrr"
      }
    },
    {
      "cell_type": "markdown",
      "source": [
        "Accuracy"
      ],
      "metadata": {
        "id": "yeex0hK6qO7n"
      }
    },
    {
      "cell_type": "code",
      "source": [
        "# print the accuracy\n",
        "knn.score(X_train, y_train)"
      ],
      "metadata": {
        "colab": {
          "base_uri": "https://localhost:8080/"
        },
        "id": "6v7OaMS4BvaR",
        "outputId": "b28371a2-05cf-4bff-d2e0-4d55d7ddc8c7"
      },
      "execution_count": 108,
      "outputs": [
        {
          "output_type": "execute_result",
          "data": {
            "text/plain": [
              "0.8413875"
            ]
          },
          "metadata": {},
          "execution_count": 108
        }
      ]
    },
    {
      "cell_type": "markdown",
      "source": [
        "Cross validation prediction"
      ],
      "metadata": {
        "id": "AKovZaXvsEsM"
      }
    },
    {
      "cell_type": "code",
      "source": [
        "from sklearn.model_selection import cross_val_predict\n",
        "\n",
        "y_train_pred = cross_val_predict(knn, X_train, y_train, cv=3)"
      ],
      "metadata": {
        "id": "AxJFbuGZsG9M"
      },
      "execution_count": 109,
      "outputs": []
    },
    {
      "cell_type": "markdown",
      "source": [
        "F1-Score"
      ],
      "metadata": {
        "id": "S5iJbqe7r4Aj"
      }
    },
    {
      "cell_type": "code",
      "source": [
        "from sklearn.metrics import f1_score\n",
        "\n",
        "f1_score(y_train, y_train_pred, average='macro')"
      ],
      "metadata": {
        "colab": {
          "base_uri": "https://localhost:8080/"
        },
        "id": "X0MeOu2xr5AF",
        "outputId": "5cb140fd-5488-4b98-a866-dfcaa15e65bb"
      },
      "execution_count": 110,
      "outputs": [
        {
          "output_type": "execute_result",
          "data": {
            "text/plain": [
              "0.6866291999271135"
            ]
          },
          "metadata": {},
          "execution_count": 110
        }
      ]
    },
    {
      "cell_type": "markdown",
      "source": [
        "Confusion Matrix"
      ],
      "metadata": {
        "id": "_JszvgHtqQ74"
      }
    },
    {
      "cell_type": "code",
      "source": [
        "from sklearn.metrics import confusion_matrix\n",
        "from sklearn.metrics import ConfusionMatrixDisplay\n",
        "\n",
        "cm = ConfusionMatrixDisplay.from_estimator(knn, X_test, y_test)\n",
        "cm"
      ],
      "metadata": {
        "colab": {
          "base_uri": "https://localhost:8080/",
          "height": 296
        },
        "id": "O-GCT9a_lfqL",
        "outputId": "1812e5e7-7ba3-47a8-ac63-16ea53ef2cda"
      },
      "execution_count": 111,
      "outputs": [
        {
          "output_type": "execute_result",
          "data": {
            "text/plain": [
              "<sklearn.metrics._plot.confusion_matrix.ConfusionMatrixDisplay at 0x7f8bab627a10>"
            ]
          },
          "metadata": {},
          "execution_count": 111
        },
        {
          "output_type": "display_data",
          "data": {
            "text/plain": [
              "<Figure size 432x288 with 2 Axes>"
            ],
            "image/png": "[encoded data removed]"
          },
          "metadata": {
            "needs_background": "light"
          }
        }
      ]
    },
    {
      "cell_type": "markdown",
      "source": [
        "Model complexy and over/undefitting"
      ],
      "metadata": {
        "id": "OwLO3ur1DRaD"
      }
    },
    {
      "cell_type": "code",
      "source": [
        "def plot_accuracy_by_neighbor(neighbors, X_train, y_train, X_test, y_test):\n",
        " neighbors = np.arange(1, neighbors + 1)\n",
        " train_accuracies = {}\n",
        " test_accuracies = {}\n",
        "\n",
        " for neighbor in neighbors:\n",
        "   print(f'Training model with {neighbor} neighbor(s)')\n",
        "   knn = KNeighborsClassifier(n_neighbors=neighbor)\n",
        "   knn.fit(X_train, y_train)\n",
        "   train_accuracies[neighbor] = knn.score(X_train, y_train)\n",
        "   test_accuracies[neighbor] = knn.score(X_test, y_test)\n",
        "\n",
        " plt.title(\"KNN: Varying Number of Neighbors\")\n",
        " plt.plot(neighbors, list(train_accuracies.values())[:neighbors.size], label=\"Training Accuracy\")\n",
        " plt.plot(neighbors, list(test_accuracies.values())[:neighbors.size], label=\"Testing Accuracy\")\n",
        " plt.legend()\n",
        " plt.xlabel(\"Number of Neighbors\")\n",
        " plt.ylabel(\"Accuracy\")\n",
        " plt.show()\n",
        " \n",
        " "
      ],
      "metadata": {
        "id": "FnuDQMp2DWxq"
      },
      "execution_count": 112,
      "outputs": []
    },
    {
      "cell_type": "code",
      "source": [
        "# plot accuracy vs number of neighbors\n",
        "plot_accuracy_by_neighbor(10, X_train, y_train, X_test, y_test)"
      ],
      "metadata": {
        "colab": {
          "base_uri": "https://localhost:8080/",
          "height": 295
        },
        "id": "nT7Gq0egLDQ8",
        "outputId": "832d5c6b-9d50-472c-d8b0-cbcd8b07a644"
      },
      "execution_count": 113,
      "outputs": [
        {
          "output_type": "display_data",
          "data": {
            "text/plain": [
              "<Figure size 432x288 with 1 Axes>"
            ],
            "image/png": "[encoded data removed]"
          },
          "metadata": {
            "needs_background": "light"
          }
        }
      ]
    }
  ]
}